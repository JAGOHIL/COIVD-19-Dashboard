{
 "cells": [
  {
   "cell_type": "markdown",
   "metadata": {},
   "source": [
    "# DIY Covid-19 Dashboard"
   ]
  },
  {
   "cell_type": "markdown",
   "metadata": {},
   "source": [
    "The COVID 19 Pandemic is an ongoing global pandemic happening since 2019. Since december 2020 vaccines have been approved and widely distributed. This dashboard aims to analyse the impacts of the pandemic interms of the number of the number of cases and the number of fully vaccinated people, in which the affects of the vaccinations can be analysed."
   ]
  },
  {
   "cell_type": "code",
   "execution_count": 1,
   "metadata": {},
   "outputs": [],
   "source": [
    "from IPython.display import clear_output\n",
    "import ipywidgets as wdg\n",
    "import pandas as pd\n",
    "import numpy as np\n",
    "import matplotlib.pyplot as plt\n",
    "import json\n",
    "from uk_covid19 import Cov19API"
   ]
  },
  {
   "cell_type": "code",
   "execution_count": 2,
   "metadata": {},
   "outputs": [],
   "source": [
    "%matplotlib inline\n",
    "plt.rcParams['figure.dpi'] = 100"
   ]
  },
  {
   "cell_type": "code",
   "execution_count": 3,
   "metadata": {},
   "outputs": [],
   "source": [
    "\n",
    "with open(\"covid_test_UK_vac.json\",\"rt\") as INFILE:\n",
    "    data = json.load(INFILE)\n",
    "jsondata={}"
   ]
  },
  {
   "cell_type": "code",
   "execution_count": 4,
   "metadata": {},
   "outputs": [
    {
     "data": {
      "text/html": [
       "<div>\n",
       "<style scoped>\n",
       "    .dataframe tbody tr th:only-of-type {\n",
       "        vertical-align: middle;\n",
       "    }\n",
       "\n",
       "    .dataframe tbody tr th {\n",
       "        vertical-align: top;\n",
       "    }\n",
       "\n",
       "    .dataframe thead th {\n",
       "        text-align: right;\n",
       "    }\n",
       "</style>\n",
       "<table border=\"1\" class=\"dataframe\">\n",
       "  <thead>\n",
       "    <tr style=\"text-align: right;\">\n",
       "      <th></th>\n",
       "      <th>fully_vac</th>\n",
       "      <th>new_cases</th>\n",
       "    </tr>\n",
       "  </thead>\n",
       "  <tbody>\n",
       "    <tr>\n",
       "      <th>2020-04-23</th>\n",
       "      <td>0.0</td>\n",
       "      <td>3589.0</td>\n",
       "    </tr>\n",
       "    <tr>\n",
       "      <th>2020-04-24</th>\n",
       "      <td>0.0</td>\n",
       "      <td>3565.0</td>\n",
       "    </tr>\n",
       "    <tr>\n",
       "      <th>2020-04-25</th>\n",
       "      <td>0.0</td>\n",
       "      <td>3472.0</td>\n",
       "    </tr>\n",
       "    <tr>\n",
       "      <th>2020-04-26</th>\n",
       "      <td>0.0</td>\n",
       "      <td>3218.0</td>\n",
       "    </tr>\n",
       "    <tr>\n",
       "      <th>2020-04-27</th>\n",
       "      <td>0.0</td>\n",
       "      <td>3155.0</td>\n",
       "    </tr>\n",
       "    <tr>\n",
       "      <th>...</th>\n",
       "      <td>...</td>\n",
       "      <td>...</td>\n",
       "    </tr>\n",
       "    <tr>\n",
       "      <th>2022-11-20</th>\n",
       "      <td>68.0</td>\n",
       "      <td>-45.0</td>\n",
       "    </tr>\n",
       "    <tr>\n",
       "      <th>2022-11-21</th>\n",
       "      <td>78.0</td>\n",
       "      <td>-45.0</td>\n",
       "    </tr>\n",
       "    <tr>\n",
       "      <th>2022-11-22</th>\n",
       "      <td>88.0</td>\n",
       "      <td>-45.0</td>\n",
       "    </tr>\n",
       "    <tr>\n",
       "      <th>2022-11-23</th>\n",
       "      <td>95.0</td>\n",
       "      <td>-45.0</td>\n",
       "    </tr>\n",
       "    <tr>\n",
       "      <th>2022-11-24</th>\n",
       "      <td>0.0</td>\n",
       "      <td>-222.0</td>\n",
       "    </tr>\n",
       "  </tbody>\n",
       "</table>\n",
       "<p>946 rows × 2 columns</p>\n",
       "</div>"
      ],
      "text/plain": [
       "           fully_vac new_cases\n",
       "2020-04-23       0.0    3589.0\n",
       "2020-04-24       0.0    3565.0\n",
       "2020-04-25       0.0    3472.0\n",
       "2020-04-26       0.0    3218.0\n",
       "2020-04-27       0.0    3155.0\n",
       "...              ...       ...\n",
       "2022-11-20      68.0     -45.0\n",
       "2022-11-21      78.0     -45.0\n",
       "2022-11-22      88.0     -45.0\n",
       "2022-11-23      95.0     -45.0\n",
       "2022-11-24       0.0    -222.0\n",
       "\n",
       "[946 rows x 2 columns]"
      ]
     },
     "execution_count": 4,
     "metadata": {},
     "output_type": "execute_result"
    }
   ],
   "source": [
    "def parse_date(datestring):\n",
    "    return pd.to_datetime(datestring, format=\"%Y-%m-%d\")\n",
    "\n",
    "def wrangle_data(data):\n",
    "    data_list = data['data']\n",
    "    date_dictionary= [dictionary['date'] for dictionary in data_list]\n",
    "    date_dictionary.sort()\n",
    "    start_date = parse_date(date_dictionary[0])\n",
    "    end_date = parse_date(date_dictionary[-1])\n",
    "    index=pd.date_range(start_date,end_date,freq='D')\n",
    "    covid_uk_datadf = pd.DataFrame(index=index, columns =[\"fully_vac\",\"new_cases\"])\n",
    "    for entry in data_list: \n",
    "        dataentry=entry['date']\n",
    "        for column in [\"fully_vac\",\"new_cases\"]:\n",
    "            if pd.isna(covid_uk_datadf.loc[dataentry, column]): \n",
    "                value= float(entry[column]) if entry[column]!=None else 0.0# \n",
    "                covid_uk_datadf.loc[dataentry, column]=value\n",
    "    return covid_uk_datadf\n",
    "\n",
    "df=wrangle_data(data) \n",
    "df"
   ]
  },
  {
   "cell_type": "code",
   "execution_count": 5,
   "metadata": {},
   "outputs": [],
   "source": [
    "\n",
    "def access_api():\n",
    "    filters = ['areaType=overview']\n",
    "    structure = {\"date\":\"date\",\n",
    "             \"fully_vac\":\"cumPeopleVaccinatedCompleteByVaccinationDate\",\n",
    "             \"new_cases\":\"newCasesByPublishDate\" }\n",
    "    api = Cov19API(filters=filters,structure=structure)\n",
    "    covid_test=api.get_json()\n",
    "    apibutton.icon=\"check\"\n",
    "    apibutton.disabled=True\n",
    "    return covid_test "
   ]
  },
  {
   "cell_type": "code",
   "execution_count": 6,
   "metadata": {},
   "outputs": [
    {
     "data": {
      "application/vnd.jupyter.widget-view+json": {
       "model_id": "59a3fe71f97643e9b9bbc04d5099d786",
       "version_major": 2,
       "version_minor": 0
      },
      "text/plain": [
       "Button(button_style='info', description='Refresh', icon='info', style=ButtonStyle(), tooltip='Keep calm and or…"
      ]
     },
     "metadata": {},
     "output_type": "display_data"
    }
   ],
   "source": [
    "\n",
    "def api_button_callback(button):\n",
    "   \n",
    "    apidata=access_api()\n",
    "    global df\n",
    "    df=wrangle_data(apidata)\n",
    "    apibutton.icon=\"check\"\n",
    "\n",
    "    \n",
    "apibutton=wdg.Button(\n",
    "    description='Refresh',\n",
    "    disabled=False,\n",
    "    button_style='info', \n",
    "    tooltip=\"Keep calm and order pineapple pizza\",\n",
    "    icon='info'\n",
    ")\n",
    "\n",
    "\n",
    "apibutton.on_click(api_button_callback) \n",
    "\n",
    "display(apibutton)\n",
    "\n"
   ]
  },
  {
   "cell_type": "markdown",
   "metadata": {},
   "source": [
    "## Graphs and Analysis"
   ]
  },
  {
   "cell_type": "markdown",
   "metadata": {},
   "source": [
    "This graph is a representation of the number of the number of cases and the number of fully vaccinated people, in which analysis on the impacts of the vaccine can be analysed, i.e to see how many people need vaccines."
   ]
  },
  {
   "cell_type": "code",
   "execution_count": 7,
   "metadata": {},
   "outputs": [
    {
     "data": {
      "application/vnd.jupyter.widget-view+json": {
       "model_id": "d864eec2e70e494cac3850d63d5a973c",
       "version_major": 2,
       "version_minor": 0
      },
      "text/plain": [
       "HBox(children=(SelectMultiple(description='Fully Vac|Number of cases', index=(0, 1), options=('fully_vac', 'ne…"
      ]
     },
     "metadata": {},
     "output_type": "display_data"
    },
    {
     "data": {
      "application/vnd.jupyter.widget-view+json": {
       "model_id": "03c381bacede4be7823d8fae5f9c014b",
       "version_major": 2,
       "version_minor": 0
      },
      "text/plain": [
       "Output()"
      ]
     },
     "metadata": {},
     "output_type": "display_data"
    }
   ],
   "source": [
    "def plot_random_walk(walk):\n",
    "    df[walk].plot()\n",
    "    plt.show() \n",
    "analysis_cols = wdg.SelectMultiple(\n",
    "options =[\"fully_vac\",\"new_cases\"],\n",
    "value=[\"fully_vac\",\"new_cases\"],\n",
    "rows=2,\n",
    "description=\"Fully Vac|Number of cases\",\n",
    "disabled=False)\n",
    "\n",
    "scale =wdg.RadioButtons(\n",
    "options = ['linear','log'],\n",
    "descripion=\"Scale:\",\n",
    "disabled=False\n",
    ")\n",
    "\n",
    "controler = wdg.HBox([analysis_cols,scale])\n",
    "\n",
    "def refresh_graph():\n",
    "    current=analysis_cols.value\n",
    "    if current==analysis_cols.options[0]:\n",
    "        other=analysis_cols.options[1]\n",
    "    else:\n",
    "        other=analysis_cols.options[0]\n",
    "    analysis_cols.value=other \n",
    "    analysis_cols.value=current\n",
    "\n",
    "\n",
    "def analysis_graph(gcols,gscale):\n",
    "    if gscale == 'linear':\n",
    "        logscale=False\n",
    "    else:\n",
    "        logscale=True\n",
    "    ncols=len(gcols)\n",
    "    if ncols>0:\n",
    "        df[list(gcols)].plot(logy=logscale)\n",
    "        plt.show()\n",
    "    else:\n",
    "        print(\"Click to select data for graph\")\n",
    "        print(\"(CTRL-Click to select more than one category)\")\n",
    "        \n",
    "    \n",
    "    \n",
    "graph=wdg.interactive_output(analysis_graph, {'gcols': analysis_cols, 'gscale': scale})\n",
    "\n",
    "display(controler, graph)"
   ]
  },
  {
   "cell_type": "markdown",
   "metadata": {},
   "source": [
    "**Author and Copyright Notice** Remember if you deploy this dashboard as a Binder it will be publicly accessible. Take credit for your work! Also acknowledge the data source: *Based on UK Government [data](https://coronavirus.data.gov.uk/) published by [Public Health England](https://www.gov.uk/government/organisations/public-health-england).*"
   ]
  },
  {
   "cell_type": "code",
   "execution_count": null,
   "metadata": {},
   "outputs": [],
   "source": []
  }
 ],
 "metadata": {
  "kernelspec": {
   "display_name": "Python 3 (ipykernel)",
   "language": "python",
   "name": "python3"
  },
  "language_info": {
   "codemirror_mode": {
    "name": "ipython",
    "version": 3
   },
   "file_extension": ".py",
   "mimetype": "text/x-python",
   "name": "python",
   "nbconvert_exporter": "python",
   "pygments_lexer": "ipython3",
   "version": "3.10.6"
  }
 },
 "nbformat": 4,
 "nbformat_minor": 4
}
