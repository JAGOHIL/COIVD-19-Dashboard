{
 "cells": [
  {
   "cell_type": "code",
   "execution_count": 3,
   "id": "65aa91e1",
   "metadata": {},
   "outputs": [],
   "source": [
    "\n",
    "#We need to import the following modules, we need the Covid 19 API to implement the refresh function, we also need the json file as we will be needing to load the file on to the program.from uk_covid19 import Cov19API\n",
    "import json\n",
    "from IPython.display import clear_output\n",
    "#We also need the python display and widgets module to implement interaction to our graphs.\n",
    "import ipywidgets as wdg\n",
    "import pandas as pd\n",
    "import matplotlib.pyplot as plt"
   ]
  },
  {
   "cell_type": "code",
   "execution_count": 4,
   "id": "45249641",
   "metadata": {},
   "outputs": [
    {
     "data": {
      "text/html": [
       "<div>\n",
       "<style scoped>\n",
       "    .dataframe tbody tr th:only-of-type {\n",
       "        vertical-align: middle;\n",
       "    }\n",
       "\n",
       "    .dataframe tbody tr th {\n",
       "        vertical-align: top;\n",
       "    }\n",
       "\n",
       "    .dataframe thead th {\n",
       "        text-align: right;\n",
       "    }\n",
       "</style>\n",
       "<table border=\"1\" class=\"dataframe\">\n",
       "  <thead>\n",
       "    <tr style=\"text-align: right;\">\n",
       "      <th></th>\n",
       "      <th>fully_vac</th>\n",
       "      <th>new_cases</th>\n",
       "    </tr>\n",
       "  </thead>\n",
       "  <tbody>\n",
       "    <tr>\n",
       "      <th>2020-04-23</th>\n",
       "      <td>0.0</td>\n",
       "      <td>3589.0</td>\n",
       "    </tr>\n",
       "    <tr>\n",
       "      <th>2020-04-24</th>\n",
       "      <td>0.0</td>\n",
       "      <td>3565.0</td>\n",
       "    </tr>\n",
       "    <tr>\n",
       "      <th>2020-04-25</th>\n",
       "      <td>0.0</td>\n",
       "      <td>3472.0</td>\n",
       "    </tr>\n",
       "    <tr>\n",
       "      <th>2020-04-26</th>\n",
       "      <td>0.0</td>\n",
       "      <td>3218.0</td>\n",
       "    </tr>\n",
       "    <tr>\n",
       "      <th>2020-04-27</th>\n",
       "      <td>0.0</td>\n",
       "      <td>3155.0</td>\n",
       "    </tr>\n",
       "    <tr>\n",
       "      <th>...</th>\n",
       "      <td>...</td>\n",
       "      <td>...</td>\n",
       "    </tr>\n",
       "    <tr>\n",
       "      <th>2022-11-20</th>\n",
       "      <td>68.0</td>\n",
       "      <td>-45.0</td>\n",
       "    </tr>\n",
       "    <tr>\n",
       "      <th>2022-11-21</th>\n",
       "      <td>78.0</td>\n",
       "      <td>-45.0</td>\n",
       "    </tr>\n",
       "    <tr>\n",
       "      <th>2022-11-22</th>\n",
       "      <td>88.0</td>\n",
       "      <td>-45.0</td>\n",
       "    </tr>\n",
       "    <tr>\n",
       "      <th>2022-11-23</th>\n",
       "      <td>95.0</td>\n",
       "      <td>-45.0</td>\n",
       "    </tr>\n",
       "    <tr>\n",
       "      <th>2022-11-24</th>\n",
       "      <td>0.0</td>\n",
       "      <td>-222.0</td>\n",
       "    </tr>\n",
       "  </tbody>\n",
       "</table>\n",
       "<p>946 rows × 2 columns</p>\n",
       "</div>"
      ],
      "text/plain": [
       "           fully_vac new_cases\n",
       "2020-04-23       0.0    3589.0\n",
       "2020-04-24       0.0    3565.0\n",
       "2020-04-25       0.0    3472.0\n",
       "2020-04-26       0.0    3218.0\n",
       "2020-04-27       0.0    3155.0\n",
       "...              ...       ...\n",
       "2022-11-20      68.0     -45.0\n",
       "2022-11-21      78.0     -45.0\n",
       "2022-11-22      88.0     -45.0\n",
       "2022-11-23      95.0     -45.0\n",
       "2022-11-24       0.0    -222.0\n",
       "\n",
       "[946 rows x 2 columns]"
      ]
     },
     "execution_count": 4,
     "metadata": {},
     "output_type": "execute_result"
    }
   ],
   "source": [
    "#Next we need to load our pickle file so that we can load our wrangled data into the program for plotting the graph.\n",
    "Vaccination_analysis_df=pd.read_pickle(\"UK_Vaccinations.pkl\")\n",
    "Vaccination_analysis_df"
   ]
  },
  {
   "cell_type": "code",
   "execution_count": 5,
   "id": "bb8bba3f",
   "metadata": {},
   "outputs": [
    {
     "data": {
      "application/vnd.jupyter.widget-view+json": {
       "model_id": "20aeeed4cdaf49d9905b5dafe886b996",
       "version_major": 2,
       "version_minor": 0
      },
      "text/plain": [
       "HBox(children=(SelectMultiple(description='Fully Vaccinated|Number of cases', index=(0, 1), options=('fully_va…"
      ]
     },
     "metadata": {},
     "output_type": "display_data"
    },
    {
     "data": {
      "application/vnd.jupyter.widget-view+json": {
       "model_id": "e8ea212fb6034521b32abcf1984f150d",
       "version_major": 2,
       "version_minor": 0
      },
      "text/plain": [
       "Output()"
      ]
     },
     "metadata": {},
     "output_type": "display_data"
    }
   ],
   "source": [
    "#To implement our refresh data function, we need to create a function that will allow the program to connect to the PHE server, in which we need to poll the data with the parameters for our analysis.\n",
    "analysis_cols = wdg.SelectMultiple(\n",
    "options =[\"fully_vac\",\"new_cases\"],\n",
    "value=[\"fully_vac\",\"new_cases\"],\n",
    "rows=2,\n",
    "description=\"Fully Vaccinated|Number of cases\",\n",
    "disabled=False)\n",
    "\n",
    "scale =wdg.RadioButtons(\n",
    "options = ['linear','log'],\n",
    "descripion=\"Scale:\",\n",
    "disabled=False\n",
    ")\n",
    "\n",
    "controler = wdg.HBox([analysis_cols,scale])\n",
    "\n",
    "def analysis_graph(gcols,gscale):\n",
    "    if gscale == 'linear':\n",
    "        logscale=False\n",
    "    else:\n",
    "        logscale=True\n",
    "    ncols=len(gcols)\n",
    "    if ncols>0:\n",
    "        Vaccination_analysis_df[list(gcols)].plot(logy=logscale)\n",
    "        plt.show()\n",
    "    else:\n",
    "        print(\"Click to select data for graph\")\n",
    "        print(\"(CTRL-Click to select more than one category)\")\n",
    "        \n",
    "graph=wdg.interactive_output(analysis_graph, {'gcols': analysis_cols, 'gscale': scale})\n",
    "\n",
    "display(controler, graph)\n",
    "        "
   ]
  },
  {
   "cell_type": "code",
   "execution_count": null,
   "id": "8fe3a79f",
   "metadata": {},
   "outputs": [],
   "source": []
  }
 ],
 "metadata": {
  "kernelspec": {
   "display_name": "Python 3 (ipykernel)",
   "language": "python",
   "name": "python3"
  },
  "language_info": {
   "codemirror_mode": {
    "name": "ipython",
    "version": 3
   },
   "file_extension": ".py",
   "mimetype": "text/x-python",
   "name": "python",
   "nbconvert_exporter": "python",
   "pygments_lexer": "ipython3",
   "version": "3.9.13"
  }
 },
 "nbformat": 4,
 "nbformat_minor": 5
}
