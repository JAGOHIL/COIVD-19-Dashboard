{
 "cells": [
  {
   "cell_type": "markdown",
   "metadata": {},
   "source": [
    "# DIY Covid-19 Dashboard"
   ]
  },
  {
   "cell_type": "markdown",
   "metadata": {},
   "source": [
    "The COVID 19 Pandemic is an ongoing global pandemic happening since 2019. Since december 2020 vaccines have been approved and widely distributed. This dashboard aims to analyse the impacts of the pandemic interms of the number of hospital cases and the useage of ventilators."
   ]
  },
  {
   "cell_type": "code",
   "execution_count": 11,
   "metadata": {},
   "outputs": [],
   "source": [
    "from IPython.display import clear_output\n",
    "import ipywidgets as wdg\n",
    "import pandas as pd\n",
    "import numpy as np\n",
    "import matplotlib.pyplot as plt\n",
    "import json\n",
    "from uk_covid19 import Cov19API"
   ]
  },
  {
   "cell_type": "code",
   "execution_count": 12,
   "metadata": {},
   "outputs": [],
   "source": [
    "%matplotlib inline\n",
    "plt.rcParams['figure.dpi'] = 100"
   ]
  },
  {
   "cell_type": "code",
   "execution_count": 13,
   "metadata": {},
   "outputs": [],
   "source": [
    "\n",
    "with open(\"covid_test_UK_Hospital.json\",\"rt\") as INFILE:\n",
    "    data = json.load(INFILE)\n",
    "jsondata={}"
   ]
  },
  {
   "cell_type": "code",
   "execution_count": 14,
   "metadata": {},
   "outputs": [
    {
     "data": {
      "text/html": [
       "<div>\n",
       "<style scoped>\n",
       "    .dataframe tbody tr th:only-of-type {\n",
       "        vertical-align: middle;\n",
       "    }\n",
       "\n",
       "    .dataframe tbody tr th {\n",
       "        vertical-align: top;\n",
       "    }\n",
       "\n",
       "    .dataframe thead th {\n",
       "        text-align: right;\n",
       "    }\n",
       "</style>\n",
       "<table border=\"1\" class=\"dataframe\">\n",
       "  <thead>\n",
       "    <tr style=\"text-align: right;\">\n",
       "      <th></th>\n",
       "      <th>patients_hospital</th>\n",
       "      <th>mechanical_ven</th>\n",
       "    </tr>\n",
       "  </thead>\n",
       "  <tbody>\n",
       "    <tr>\n",
       "      <th>2020-03-27</th>\n",
       "      <td>7267.0</td>\n",
       "      <td>0.0</td>\n",
       "    </tr>\n",
       "    <tr>\n",
       "      <th>2020-03-28</th>\n",
       "      <td>8278.0</td>\n",
       "      <td>0.0</td>\n",
       "    </tr>\n",
       "    <tr>\n",
       "      <th>2020-03-29</th>\n",
       "      <td>9525.0</td>\n",
       "      <td>0.0</td>\n",
       "    </tr>\n",
       "    <tr>\n",
       "      <th>2020-03-30</th>\n",
       "      <td>11093.0</td>\n",
       "      <td>0.0</td>\n",
       "    </tr>\n",
       "    <tr>\n",
       "      <th>2020-03-31</th>\n",
       "      <td>12597.0</td>\n",
       "      <td>0.0</td>\n",
       "    </tr>\n",
       "    <tr>\n",
       "      <th>...</th>\n",
       "      <td>...</td>\n",
       "      <td>...</td>\n",
       "    </tr>\n",
       "    <tr>\n",
       "      <th>2022-11-13</th>\n",
       "      <td>6597.0</td>\n",
       "      <td>0.0</td>\n",
       "    </tr>\n",
       "    <tr>\n",
       "      <th>2022-11-14</th>\n",
       "      <td>6603.0</td>\n",
       "      <td>0.0</td>\n",
       "    </tr>\n",
       "    <tr>\n",
       "      <th>2022-11-15</th>\n",
       "      <td>6446.0</td>\n",
       "      <td>0.0</td>\n",
       "    </tr>\n",
       "    <tr>\n",
       "      <th>2022-11-16</th>\n",
       "      <td>6273.0</td>\n",
       "      <td>0.0</td>\n",
       "    </tr>\n",
       "    <tr>\n",
       "      <th>2022-11-17</th>\n",
       "      <td>6069.0</td>\n",
       "      <td>0.0</td>\n",
       "    </tr>\n",
       "  </tbody>\n",
       "</table>\n",
       "<p>966 rows × 2 columns</p>\n",
       "</div>"
      ],
      "text/plain": [
       "           patients_hospital mechanical_ven\n",
       "2020-03-27            7267.0            0.0\n",
       "2020-03-28            8278.0            0.0\n",
       "2020-03-29            9525.0            0.0\n",
       "2020-03-30           11093.0            0.0\n",
       "2020-03-31           12597.0            0.0\n",
       "...                      ...            ...\n",
       "2022-11-13            6597.0            0.0\n",
       "2022-11-14            6603.0            0.0\n",
       "2022-11-15            6446.0            0.0\n",
       "2022-11-16            6273.0            0.0\n",
       "2022-11-17            6069.0            0.0\n",
       "\n",
       "[966 rows x 2 columns]"
      ]
     },
     "execution_count": 14,
     "metadata": {},
     "output_type": "execute_result"
    }
   ],
   "source": [
    "def parse_date(datestring):\n",
    "    return pd.to_datetime(datestring, format=\"%Y-%m-%d\")\n",
    "\n",
    "def wrangle_data(data):\n",
    "    data_list = data['data']\n",
    "    date_dictionary= [dictionary['date'] for dictionary in data_list]\n",
    "    date_dictionary.sort()\n",
    "    start_date = parse_date(date_dictionary[0])\n",
    "    end_date = parse_date(date_dictionary[-1])\n",
    "    index=pd.date_range(start_date,end_date,freq='D')\n",
    "    covid_uk_datadf = pd.DataFrame(index=index, columns =[\"patients_hospital\",\"mechanical_ven\"])\n",
    "    for entry in data_list: \n",
    "        dataentry=entry['date']\n",
    "        for column in [\"patients_hospital\",\"mechanical_ven\"]:\n",
    "            if pd.isna(covid_uk_datadf.loc[dataentry, column]): \n",
    "                value= float(entry[column]) if entry[column]!=None else 0.0# \n",
    "                covid_uk_datadf.loc[dataentry, column]=value\n",
    "    return covid_uk_datadf\n",
    "\n",
    "df=wrangle_data(data) \n",
    "df"
   ]
  },
  {
   "cell_type": "code",
   "execution_count": 15,
   "metadata": {},
   "outputs": [],
   "source": [
    "\n",
    "def access_api():\n",
    "    filters = ['areaType=overview']\n",
    "    structure = {\"date\":\"date\",\n",
    "            \"patients_hospital\":\"hospitalCases\",\n",
    "            \"mechanical_ven\":\"covidOccupiedMVBeds\",\n",
    "            \"new_cases\":\"newCasesByPublishDate\",\n",
    "            \"fully_vac\":\"cumPeopleVaccinatedCompleteByVaccinationDate\"}\n",
    "    api = Cov19API(filters=filters,structure=structure)\n",
    "    covid_test=api.get_json()\n",
    "    apibutton.icon=\"check\"\n",
    "    apibutton.disabled=True\n",
    "    return covid_test"
   ]
  },
  {
   "cell_type": "code",
   "execution_count": 16,
   "metadata": {},
   "outputs": [
    {
     "data": {
      "application/vnd.jupyter.widget-view+json": {
       "model_id": "e60dcaa03afe4d2bb5129f759a830d36",
       "version_major": 2,
       "version_minor": 0
      },
      "text/plain": [
       "Button(button_style='info', description='Refresh', icon='info', style=ButtonStyle(), tooltip='Keep calm and or…"
      ]
     },
     "metadata": {},
     "output_type": "display_data"
    }
   ],
   "source": [
    "\n",
    "def api_button_callback(button):\n",
    "    apidata=access_api()\n",
    "    global df\n",
    "    df=wrangle_data(apidata)\n",
    "    apibutton.icon=\"check\"\n",
    " \n",
    "\n",
    "    \n",
    "apibutton=wdg.Button(\n",
    "    description='Refresh', \n",
    "    disabled=False,\n",
    "    button_style='info', \n",
    "    tooltip=\"Keep calm and order pineapple pizza\",\n",
    "    icon='info'\n",
    ")\n",
    "\n",
    "apibutton.on_click(api_button_callback) \n",
    "display(apibutton)\n"
   ]
  },
  {
   "cell_type": "markdown",
   "metadata": {},
   "source": [
    "## Graphs and Analysis"
   ]
  },
  {
   "cell_type": "markdown",
   "metadata": {},
   "source": [
    "This graph compares the number of hospital cases as well as the number of covid occupied ventilator beds"
   ]
  },
  {
   "cell_type": "code",
   "execution_count": 17,
   "metadata": {},
   "outputs": [
    {
     "data": {
      "application/vnd.jupyter.widget-view+json": {
       "model_id": "7f08a159b6b3487e89eca764e59c1adf",
       "version_major": 2,
       "version_minor": 0
      },
      "text/plain": [
       "HBox(children=(SelectMultiple(description='Hosptial Cases|Use of ventilators', index=(0, 1), options=('patient…"
      ]
     },
     "metadata": {},
     "output_type": "display_data"
    },
    {
     "data": {
      "application/vnd.jupyter.widget-view+json": {
       "model_id": "0a24d106bca048fabcfe8996bcaafbd4",
       "version_major": 2,
       "version_minor": 0
      },
      "text/plain": [
       "Output()"
      ]
     },
     "metadata": {},
     "output_type": "display_data"
    }
   ],
   "source": [
    "def plot_random_walk(walk):\n",
    "    df[walk].plot()\n",
    "    plt.show() \n",
    "    \n",
    "analysis_cols = wdg.SelectMultiple(\n",
    "options =[\"patients_hospital\",\"mechanical_ven\"],\n",
    "value=[\"patients_hospital\",\"mechanical_ven\"],\n",
    "rows=2,\n",
    "description=\"Hosptial Cases|Use of ventilators\",\n",
    "disabled=False)\n",
    "\n",
    "scale =wdg.RadioButtons(\n",
    "options = ['linear','log'],\n",
    "descripion=\"Scale:\",\n",
    "disabled=False\n",
    ")\n",
    "\n",
    "controler = wdg.HBox([analysis_cols,scale])\n",
    "\n",
    "def refresh_graph():\n",
    "    current=analysis_cols.value\n",
    "    if current==analysis_cols.options[0]:\n",
    "        other=analysis_cols.options[1]\n",
    "    else:\n",
    "        other=analysis_cols.options[0]\n",
    "    analysis_cols.value=other \n",
    "    analysis_cols.value=current\n",
    "\n",
    "\n",
    "def analysis_graph(gcols,gscale):\n",
    "    if gscale == 'linear':\n",
    "        logscale=False\n",
    "    else:\n",
    "        logscale=True\n",
    "    ncols=len(gcols)\n",
    "    if ncols>0:\n",
    "        df[list(gcols)].plot(logy=logscale)\n",
    "        plt.show()\n",
    "    else:\n",
    "        print(\"Click to select data for graph\")\n",
    "        print(\"(CTRL-Click to select more than one category)\")\n",
    "        \n",
    "    \n",
    "    \n",
    "graph=wdg.interactive_output(analysis_graph, {'gcols': analysis_cols, 'gscale': scale})\n",
    "\n",
    "display(controler, graph)"
   ]
  },
  {
   "cell_type": "markdown",
   "metadata": {},
   "source": [
    "**Author and Copyright Notice** Remember if you deploy this dashboard as a Binder it will be publicly accessible. Take credit for your work! Also acknowledge the data source: *Based on UK Government [data](https://coronavirus.data.gov.uk/) published by [Public Health England](https://www.gov.uk/government/organisations/public-health-england).*"
   ]
  }
 ],
 "metadata": {
  "kernelspec": {
   "display_name": "Python 3 (ipykernel)",
   "language": "python",
   "name": "python3"
  },
  "language_info": {
   "codemirror_mode": {
    "name": "ipython",
    "version": 3
   },
   "file_extension": ".py",
   "mimetype": "text/x-python",
   "name": "python",
   "nbconvert_exporter": "python",
   "pygments_lexer": "ipython3",
   "version": "3.10.6"
  }
 },
 "nbformat": 4,
 "nbformat_minor": 4
}
