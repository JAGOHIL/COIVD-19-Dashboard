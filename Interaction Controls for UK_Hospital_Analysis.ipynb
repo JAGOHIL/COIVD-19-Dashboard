{
 "cells": [
  {
   "cell_type": "code",
   "execution_count": 1,
   "id": "65aa91e1",
   "metadata": {},
   "outputs": [],
   "source": [
    "#We need to import the following modules, we need the Covid 19 API to implement the refresh function, we also need the json file as we will be needing to load the file on to the program.\n",
    "from uk_covid19 import Cov19API\n",
    "import json\n",
    "#We also need the python display and widgets module to implement interaction to our graphs.\n",
    "from IPython.display import clear_output\n",
    "import ipywidgets as wdg\n",
    "import pandas as pd\n",
    "import matplotlib.pyplot as plt"
   ]
  },
  {
   "cell_type": "code",
   "execution_count": 2,
   "id": "da7b37df",
   "metadata": {},
   "outputs": [
    {
     "data": {
      "application/vnd.jupyter.widget-view+json": {
       "model_id": "d119272b54ed45a5831ac5533bb734ea",
       "version_major": 2,
       "version_minor": 0
      },
      "text/plain": [
       "Button(description='Refresh data', icon='download', style=ButtonStyle(), tooltip='Click to download current Pu…"
      ]
     },
     "metadata": {},
     "output_type": "display_data"
    }
   ],
   "source": [
    "#To implement our refresh data function, we need to create a function that will allow the program to connect to the PHE server, in which we need to poll the data with the parameters for our analysis.\n",
    "def access_api(button):\n",
    "    filters = ['areaType=overview']\n",
    "    structure = {\"date\":\"date\",\n",
    "            \"patients_hospital\":\"hospitalCases\",\n",
    "             \"mechanical_ven\":\"covidOccupiedMVBeds\" }\n",
    "    api = Cov19API(filters=filters,structure=structure)\n",
    "    covid_test=api.get_json()\n",
    "    apibutton.icon=\"check\"\n",
    "    apibutton.disabled=True\n",
    "\n",
    "apibutton=wdg.Button(\n",
    "    description='Refresh data',\n",
    "    disabled=False,\n",
    "    button_style='info'\n",
    "    tooltip='Click to download current Public Health England data',\n",
    "    icon='download'\n",
    ")\n",
    "\n",
    "apibutton.on_click(access_api)\n",
    "\n",
    "display(apibutton)"
   ]
  },
  {
   "cell_type": "code",
   "execution_count": 3,
   "id": "45249641",
   "metadata": {},
   "outputs": [
    {
     "data": {
      "text/html": [
       "<div>\n",
       "<style scoped>\n",
       "    .dataframe tbody tr th:only-of-type {\n",
       "        vertical-align: middle;\n",
       "    }\n",
       "\n",
       "    .dataframe tbody tr th {\n",
       "        vertical-align: top;\n",
       "    }\n",
       "\n",
       "    .dataframe thead th {\n",
       "        text-align: right;\n",
       "    }\n",
       "</style>\n",
       "<table border=\"1\" class=\"dataframe\">\n",
       "  <thead>\n",
       "    <tr style=\"text-align: right;\">\n",
       "      <th></th>\n",
       "      <th>patients_hospital</th>\n",
       "      <th>mechanical_ven</th>\n",
       "    </tr>\n",
       "  </thead>\n",
       "  <tbody>\n",
       "    <tr>\n",
       "      <th>2020-03-27</th>\n",
       "      <td>7267.0</td>\n",
       "      <td>0.0</td>\n",
       "    </tr>\n",
       "    <tr>\n",
       "      <th>2020-03-28</th>\n",
       "      <td>8278.0</td>\n",
       "      <td>0.0</td>\n",
       "    </tr>\n",
       "    <tr>\n",
       "      <th>2020-03-29</th>\n",
       "      <td>9525.0</td>\n",
       "      <td>0.0</td>\n",
       "    </tr>\n",
       "    <tr>\n",
       "      <th>2020-03-30</th>\n",
       "      <td>11093.0</td>\n",
       "      <td>0.0</td>\n",
       "    </tr>\n",
       "    <tr>\n",
       "      <th>2020-03-31</th>\n",
       "      <td>12597.0</td>\n",
       "      <td>0.0</td>\n",
       "    </tr>\n",
       "    <tr>\n",
       "      <th>...</th>\n",
       "      <td>...</td>\n",
       "      <td>...</td>\n",
       "    </tr>\n",
       "    <tr>\n",
       "      <th>2022-11-13</th>\n",
       "      <td>6597.0</td>\n",
       "      <td>0.0</td>\n",
       "    </tr>\n",
       "    <tr>\n",
       "      <th>2022-11-14</th>\n",
       "      <td>6603.0</td>\n",
       "      <td>0.0</td>\n",
       "    </tr>\n",
       "    <tr>\n",
       "      <th>2022-11-15</th>\n",
       "      <td>6446.0</td>\n",
       "      <td>0.0</td>\n",
       "    </tr>\n",
       "    <tr>\n",
       "      <th>2022-11-16</th>\n",
       "      <td>6273.0</td>\n",
       "      <td>0.0</td>\n",
       "    </tr>\n",
       "    <tr>\n",
       "      <th>2022-11-17</th>\n",
       "      <td>6069.0</td>\n",
       "      <td>0.0</td>\n",
       "    </tr>\n",
       "  </tbody>\n",
       "</table>\n",
       "<p>966 rows × 2 columns</p>\n",
       "</div>"
      ],
      "text/plain": [
       "           patients_hospital mechanical_ven\n",
       "2020-03-27            7267.0            0.0\n",
       "2020-03-28            8278.0            0.0\n",
       "2020-03-29            9525.0            0.0\n",
       "2020-03-30           11093.0            0.0\n",
       "2020-03-31           12597.0            0.0\n",
       "...                      ...            ...\n",
       "2022-11-13            6597.0            0.0\n",
       "2022-11-14            6603.0            0.0\n",
       "2022-11-15            6446.0            0.0\n",
       "2022-11-16            6273.0            0.0\n",
       "2022-11-17            6069.0            0.0\n",
       "\n",
       "[966 rows x 2 columns]"
      ]
     },
     "execution_count": 3,
     "metadata": {},
     "output_type": "execute_result"
    }
   ],
   "source": [
    "#Next we need to load our pickle file so that we can load our wrangled data into the program for plotting the graph.\n",
    "hospital_analysis_df=pd.read_pickle(\"UK_Hosptial_Analysis.pkl\")\n",
    "hospital_analysis_df"
   ]
  },
  {
   "cell_type": "code",
   "execution_count": 4,
   "id": "bb8bba3f",
   "metadata": {},
   "outputs": [
    {
     "data": {
      "application/vnd.jupyter.widget-view+json": {
       "model_id": "50f092e972fc4ab9b9bc66f2ce53747d",
       "version_major": 2,
       "version_minor": 0
      },
      "text/plain": [
       "HBox(children=(SelectMultiple(description='Hosptial Cases|Use of ventilators', index=(0, 1), options=('patient…"
      ]
     },
     "metadata": {},
     "output_type": "display_data"
    },
    {
     "data": {
      "application/vnd.jupyter.widget-view+json": {
       "model_id": "86fb1ea0abcc4126b3a4d1e7323515f7",
       "version_major": 2,
       "version_minor": 0
      },
      "text/plain": [
       "Output()"
      ]
     },
     "metadata": {},
     "output_type": "display_data"
    }
   ],
   "source": [
    "#Here is where we are adding interaction to our graphs, here we want to have multiple interations as I want the user to select between the parameters.\n",
    "analysis_cols = wdg.SelectMultiple(\n",
    "    #Here we are specifing the options that the drop down menu should display, which is the metrics of the graph.\n",
    "options =[\"patients_hospital\",\"mechanical_ven\"],\n",
    "value=[\"patients_hospital\",\"mechanical_ven\"],\n",
    "rows=2,\n",
    "description=\"Hosptial Cases|Use of ventilators\",\n",
    "disabled=False)\n",
    "\n",
    "#Its also better to give the user the option of changing the graph scale from linear to logrithimic if the user prefers.\n",
    "\n",
    "scale =wdg.RadioButtons(\n",
    "options = ['linear','log'],\n",
    "descripion=\"Scale:\",\n",
    "disabled=False\n",
    ")\n",
    "\n",
    "controler = wdg.HBox([analysis_cols,scale])\n",
    "\n",
    "#This function implements the option where the user can change the graph scale.\n",
    "\n",
    "def analysis_graph(gcols,gscale):\n",
    "    if gscale == 'linear':\n",
    "        logscale=False\n",
    "    else:\n",
    "        logscale=True\n",
    "    ncols=len(gcols)\n",
    "    if ncols>0:\n",
    "        hospital_analysis_df[list(gcols)].plot(logy=logscale)\n",
    "        plt.show()\n",
    "    else:\n",
    "        print(\"Click to select data for graph\")\n",
    "        print(\"(CTRL-Click to select more than one category)\")\n",
    "        \n",
    "graph=wdg.interactive_output(analysis_graph, {'gcols': analysis_cols, 'gscale': scale})\n",
    "\n",
    "display(controler, graph)\n",
    "        "
   ]
  },
  {
   "cell_type": "code",
   "execution_count": null,
   "id": "8fe3a79f",
   "metadata": {},
   "outputs": [],
   "source": []
  }
 ],
 "metadata": {
  "kernelspec": {
   "display_name": "Python 3 (ipykernel)",
   "language": "python",
   "name": "python3"
  },
  "language_info": {
   "codemirror_mode": {
    "name": "ipython",
    "version": 3
   },
   "file_extension": ".py",
   "mimetype": "text/x-python",
   "name": "python",
   "nbconvert_exporter": "python",
   "pygments_lexer": "ipython3",
   "version": "3.9.13"
  }
 },
 "nbformat": 4,
 "nbformat_minor": 5
}
